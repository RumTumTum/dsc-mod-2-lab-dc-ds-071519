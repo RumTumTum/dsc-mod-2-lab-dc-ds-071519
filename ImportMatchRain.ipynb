{
 "cells": [
  {
   "cell_type": "markdown",
   "metadata": {},
   "source": [
    "## Import Match Data"
   ]
  },
  {
   "cell_type": "code",
   "execution_count": 44,
   "metadata": {},
   "outputs": [],
   "source": [
    "import pandas as pd\n",
    "import numpy as np\n",
    "import sqlite3"
   ]
  },
  {
   "cell_type": "code",
   "execution_count": 45,
   "metadata": {},
   "outputs": [],
   "source": [
    "def import_match_data():\n",
    "    import pandas as pd\n",
    "    import sqlite3\n",
    "    con_matches = sqlite3.connect('database.sqlite') #connect to matches DB\n",
    "    c = con_matches.cursor() #connect cursor\n",
    "    df = pd.read_sql(\"\"\"\n",
    "        SELECT *\n",
    "        FROM(\n",
    "            SELECT *\n",
    "            FROM(\n",
    "                SELECT \n",
    "                    Match_ID, \n",
    "                    \"Home\" as Match_Team, \n",
    "                    Div, \n",
    "                    Season, \n",
    "                    Date, \n",
    "                    HomeTeam as Team, \n",
    "                    AwayTeam as Opponent, \n",
    "                    (FTHG - FTAG) as Result\n",
    "                FROM Matches\n",
    "                WHERE Season = 2011\n",
    "                )\n",
    "            UNION ALL\n",
    "            SELECT *\n",
    "            FROM(\n",
    "                SELECT \n",
    "                    Match_ID, \n",
    "                    \"Away\" as Match_Team, \n",
    "                    Div, \n",
    "                    Season, \n",
    "                    Date, \n",
    "                    AwayTeam as Team, \n",
    "                    HomeTeam as Opponent, \n",
    "                    -(FTHG - FTAG) as Result\n",
    "                FROM Matches\n",
    "                WHERE Season = 2011\n",
    "                )\n",
    "            )\n",
    "        ORDER BY Match_ID, Match_Team Desc;\n",
    "    \"\"\", con_matches)\n",
    "    df.Date = pd.to_datetime(df.Date) # convert Date to datetime format\n",
    "    \n",
    "    return df.copy()"
   ]
  },
  {
   "cell_type": "markdown",
   "metadata": {},
   "source": [
    "## Various Testing"
   ]
  },
  {
   "cell_type": "code",
   "execution_count": 46,
   "metadata": {},
   "outputs": [],
   "source": [
    "team_wins = import_match_data()"
   ]
  },
  {
   "cell_type": "code",
   "execution_count": 47,
   "metadata": {},
   "outputs": [
    {
     "data": {
      "text/html": [
       "<div>\n",
       "<style scoped>\n",
       "    .dataframe tbody tr th:only-of-type {\n",
       "        vertical-align: middle;\n",
       "    }\n",
       "\n",
       "    .dataframe tbody tr th {\n",
       "        vertical-align: top;\n",
       "    }\n",
       "\n",
       "    .dataframe thead th {\n",
       "        text-align: right;\n",
       "    }\n",
       "</style>\n",
       "<table border=\"1\" class=\"dataframe\">\n",
       "  <thead>\n",
       "    <tr style=\"text-align: right;\">\n",
       "      <th></th>\n",
       "      <th>Match_ID</th>\n",
       "      <th>Match_Team</th>\n",
       "      <th>Div</th>\n",
       "      <th>Season</th>\n",
       "      <th>Date</th>\n",
       "      <th>Team</th>\n",
       "      <th>Opponent</th>\n",
       "      <th>Result</th>\n",
       "    </tr>\n",
       "  </thead>\n",
       "  <tbody>\n",
       "    <tr>\n",
       "      <th>0</th>\n",
       "      <td>1092</td>\n",
       "      <td>Home</td>\n",
       "      <td>D1</td>\n",
       "      <td>2011</td>\n",
       "      <td>2012-03-31</td>\n",
       "      <td>Nurnberg</td>\n",
       "      <td>Bayern Munich</td>\n",
       "      <td>-1</td>\n",
       "    </tr>\n",
       "    <tr>\n",
       "      <th>1</th>\n",
       "      <td>1092</td>\n",
       "      <td>Away</td>\n",
       "      <td>D1</td>\n",
       "      <td>2011</td>\n",
       "      <td>2012-03-31</td>\n",
       "      <td>Bayern Munich</td>\n",
       "      <td>Nurnberg</td>\n",
       "      <td>1</td>\n",
       "    </tr>\n",
       "    <tr>\n",
       "      <th>2</th>\n",
       "      <td>1093</td>\n",
       "      <td>Home</td>\n",
       "      <td>D1</td>\n",
       "      <td>2011</td>\n",
       "      <td>2011-12-11</td>\n",
       "      <td>Stuttgart</td>\n",
       "      <td>Bayern Munich</td>\n",
       "      <td>-1</td>\n",
       "    </tr>\n",
       "    <tr>\n",
       "      <th>3</th>\n",
       "      <td>1093</td>\n",
       "      <td>Away</td>\n",
       "      <td>D1</td>\n",
       "      <td>2011</td>\n",
       "      <td>2011-12-11</td>\n",
       "      <td>Bayern Munich</td>\n",
       "      <td>Stuttgart</td>\n",
       "      <td>1</td>\n",
       "    </tr>\n",
       "    <tr>\n",
       "      <th>4</th>\n",
       "      <td>1094</td>\n",
       "      <td>Home</td>\n",
       "      <td>D1</td>\n",
       "      <td>2011</td>\n",
       "      <td>2011-08-13</td>\n",
       "      <td>Wolfsburg</td>\n",
       "      <td>Bayern Munich</td>\n",
       "      <td>-1</td>\n",
       "    </tr>\n",
       "  </tbody>\n",
       "</table>\n",
       "</div>"
      ],
      "text/plain": [
       "   Match_ID Match_Team Div  Season       Date           Team       Opponent  \\\n",
       "0      1092       Home  D1    2011 2012-03-31       Nurnberg  Bayern Munich   \n",
       "1      1092       Away  D1    2011 2012-03-31  Bayern Munich       Nurnberg   \n",
       "2      1093       Home  D1    2011 2011-12-11      Stuttgart  Bayern Munich   \n",
       "3      1093       Away  D1    2011 2011-12-11  Bayern Munich      Stuttgart   \n",
       "4      1094       Home  D1    2011 2011-08-13      Wolfsburg  Bayern Munich   \n",
       "\n",
       "   Result  \n",
       "0      -1  \n",
       "1       1  \n",
       "2      -1  \n",
       "3       1  \n",
       "4      -1  "
      ]
     },
     "execution_count": 47,
     "metadata": {},
     "output_type": "execute_result"
    }
   ],
   "source": [
    "team_wins.head()"
   ]
  },
  {
   "cell_type": "code",
   "execution_count": 48,
   "metadata": {},
   "outputs": [
    {
     "data": {
      "text/plain": [
       "0    1333152000\n",
       "1    1333152000\n",
       "2    1323561600\n",
       "3    1323561600\n",
       "4    1313193600\n",
       "Name: Date, dtype: int64"
      ]
     },
     "execution_count": 48,
     "metadata": {},
     "output_type": "execute_result"
    }
   ],
   "source": [
    "team_wins[0:5].Date.astype(np.int64) // 10**9"
   ]
  },
  {
   "cell_type": "code",
   "execution_count": 49,
   "metadata": {},
   "outputs": [
    {
     "data": {
      "text/html": [
       "<div>\n",
       "<style scoped>\n",
       "    .dataframe tbody tr th:only-of-type {\n",
       "        vertical-align: middle;\n",
       "    }\n",
       "\n",
       "    .dataframe tbody tr th {\n",
       "        vertical-align: top;\n",
       "    }\n",
       "\n",
       "    .dataframe thead th {\n",
       "        text-align: right;\n",
       "    }\n",
       "</style>\n",
       "<table border=\"1\" class=\"dataframe\">\n",
       "  <thead>\n",
       "    <tr style=\"text-align: right;\">\n",
       "      <th></th>\n",
       "      <th>Match_ID</th>\n",
       "      <th>Match_Team</th>\n",
       "      <th>Div</th>\n",
       "      <th>Season</th>\n",
       "      <th>Date</th>\n",
       "      <th>Team</th>\n",
       "      <th>Opponent</th>\n",
       "      <th>Result</th>\n",
       "    </tr>\n",
       "  </thead>\n",
       "  <tbody>\n",
       "    <tr>\n",
       "      <th>0</th>\n",
       "      <td>1092</td>\n",
       "      <td>Home</td>\n",
       "      <td>D1</td>\n",
       "      <td>2011</td>\n",
       "      <td>2012-03-31</td>\n",
       "      <td>Nurnberg</td>\n",
       "      <td>Bayern Munich</td>\n",
       "      <td>-1</td>\n",
       "    </tr>\n",
       "    <tr>\n",
       "      <th>1</th>\n",
       "      <td>1092</td>\n",
       "      <td>Away</td>\n",
       "      <td>D1</td>\n",
       "      <td>2011</td>\n",
       "      <td>2012-03-31</td>\n",
       "      <td>Bayern Munich</td>\n",
       "      <td>Nurnberg</td>\n",
       "      <td>1</td>\n",
       "    </tr>\n",
       "    <tr>\n",
       "      <th>2</th>\n",
       "      <td>1093</td>\n",
       "      <td>Home</td>\n",
       "      <td>D1</td>\n",
       "      <td>2011</td>\n",
       "      <td>2011-12-11</td>\n",
       "      <td>Stuttgart</td>\n",
       "      <td>Bayern Munich</td>\n",
       "      <td>-1</td>\n",
       "    </tr>\n",
       "    <tr>\n",
       "      <th>3</th>\n",
       "      <td>1093</td>\n",
       "      <td>Away</td>\n",
       "      <td>D1</td>\n",
       "      <td>2011</td>\n",
       "      <td>2011-12-11</td>\n",
       "      <td>Bayern Munich</td>\n",
       "      <td>Stuttgart</td>\n",
       "      <td>1</td>\n",
       "    </tr>\n",
       "    <tr>\n",
       "      <th>4</th>\n",
       "      <td>1094</td>\n",
       "      <td>Home</td>\n",
       "      <td>D1</td>\n",
       "      <td>2011</td>\n",
       "      <td>2011-08-13</td>\n",
       "      <td>Wolfsburg</td>\n",
       "      <td>Bayern Munich</td>\n",
       "      <td>-1</td>\n",
       "    </tr>\n",
       "  </tbody>\n",
       "</table>\n",
       "</div>"
      ],
      "text/plain": [
       "   Match_ID Match_Team Div  Season       Date           Team       Opponent  \\\n",
       "0      1092       Home  D1    2011 2012-03-31       Nurnberg  Bayern Munich   \n",
       "1      1092       Away  D1    2011 2012-03-31  Bayern Munich       Nurnberg   \n",
       "2      1093       Home  D1    2011 2011-12-11      Stuttgart  Bayern Munich   \n",
       "3      1093       Away  D1    2011 2011-12-11  Bayern Munich      Stuttgart   \n",
       "4      1094       Home  D1    2011 2011-08-13      Wolfsburg  Bayern Munich   \n",
       "\n",
       "   Result  \n",
       "0      -1  \n",
       "1       1  \n",
       "2      -1  \n",
       "3       1  \n",
       "4      -1  "
      ]
     },
     "execution_count": 49,
     "metadata": {},
     "output_type": "execute_result"
    }
   ],
   "source": [
    "team_wins.head()"
   ]
  },
  {
   "cell_type": "markdown",
   "metadata": {},
   "source": [
    "## Import Rain Data"
   ]
  },
  {
   "cell_type": "markdown",
   "metadata": {},
   "source": [
    "### Get data using requests"
   ]
  },
  {
   "cell_type": "code",
   "execution_count": 50,
   "metadata": {},
   "outputs": [],
   "source": [
    "import pandas as pd\n",
    "import numpy as np\n",
    "import requests\n",
    "import json\n",
    "from bs4 import BeautifulSoup"
   ]
  },
  {
   "cell_type": "code",
   "execution_count": 51,
   "metadata": {},
   "outputs": [],
   "source": [
    "def dark_sky_url(time):\n",
    "    \"\"\" Unix time preffered \"\"\"\n",
    "    import dark_sky_key\n",
    "    key = dark_sky_key.import_dark_sky_key()\n",
    "    lat = str(52.52437)\n",
    "    lon = str(13.41053)\n",
    "    excl = 'exclude=currently,minutely,hourly,alerts,flags'\n",
    "    url = 'https://api.darksky.net/forecast/{}/{},{},{}?{}'.format(key,lat,lon,time,excl)\n",
    "    return url"
   ]
  },
  {
   "cell_type": "markdown",
   "metadata": {},
   "source": [
    "### Get data"
   ]
  },
  {
   "cell_type": "code",
   "execution_count": 119,
   "metadata": {},
   "outputs": [],
   "source": [
    "def get_dark_sky_date(time):\n",
    "    \"\"\" Data returned as a json conent \"\"\"\n",
    "    url = dark_sky_url(time)\n",
    "    req = requests.get(url)\n",
    "    content = json.loads(req.content)\n",
    "    return content"
   ]
  },
  {
   "cell_type": "markdown",
   "metadata": {},
   "source": [
    "### Parse json and Return Whether Rainy"
   ]
  },
  {
   "cell_type": "code",
   "execution_count": 134,
   "metadata": {},
   "outputs": [],
   "source": [
    "def check_rain(time):\n",
    "    content = get_dark_sky_date(time)\n",
    "    try:\n",
    "        max_precip = content['daily']['data'][0]['precipIntensityMax']\n",
    "        # NOTE: any precipitation is considered 'rain' or similar\n",
    "        if max_precip > 0:\n",
    "            rain = 1\n",
    "        else:\n",
    "            rain = 0\n",
    "        return rain\n",
    "    except:\n",
    "        rain = 0\n",
    "        return rain"
   ]
  },
  {
   "cell_type": "code",
   "execution_count": 132,
   "metadata": {},
   "outputs": [
    {
     "data": {
      "text/plain": [
       "1"
      ]
     },
     "execution_count": 132,
     "metadata": {},
     "output_type": "execute_result"
    }
   ],
   "source": [
    "time = 1333152000\n",
    "check_rain(time)"
   ]
  },
  {
   "cell_type": "code",
   "execution_count": 115,
   "metadata": {},
   "outputs": [],
   "source": [
    "    url = dark_sky_url(time)\n",
    "    req = requests.get(url)"
   ]
  },
  {
   "cell_type": "code",
   "execution_count": 116,
   "metadata": {},
   "outputs": [
    {
     "data": {
      "text/plain": [
       "requests.models.Response"
      ]
     },
     "execution_count": 116,
     "metadata": {},
     "output_type": "execute_result"
    }
   ],
   "source": [
    "type(req)"
   ]
  },
  {
   "cell_type": "markdown",
   "metadata": {},
   "source": [
    "### Testing data"
   ]
  },
  {
   "cell_type": "code",
   "execution_count": 133,
   "metadata": {},
   "outputs": [],
   "source": [
    "# Content used for testing\n",
    "\n",
    "content = {'latitude': 52.52437,\n",
    "     'longitude': 13.41053,\n",
    "     'timezone': 'Europe/Berlin',\n",
    "     'daily': {'data': [{'time': 1333144800,\n",
    "    'summary': 'Possible drizzle in the morning and afternoon.',\n",
    "    'icon': 'rain',\n",
    "    'sunriseTime': 1333168980,\n",
    "    'sunsetTime': 1333215600,\n",
    "    'moonPhase': 0.28,\n",
    "    'precipIntensity': 0.0003,\n",
    "    'precipIntensityMax': 0.0029,\n",
    "    'precipIntensityMaxTime': 1333180800,\n",
    "    'precipProbability': 0.56,\n",
    "    'precipType': 'rain',\n",
    "    'temperatureHigh': 44.59,\n",
    "    'temperatureHighTime': 1333188000,\n",
    "    'temperatureLow': 30.09,\n",
    "    'temperatureLowTime': 1333256400,\n",
    "    'apparentTemperatureHigh': 36.29,\n",
    "    'apparentTemperatureHighTime': 1333188000,\n",
    "    'apparentTemperatureLow': 23.95,\n",
    "    'apparentTemperatureLowTime': 1333256400,\n",
    "    'dewPoint': 33.23,\n",
    "    'humidity': 0.7,\n",
    "    'windSpeed': 16.7,\n",
    "    'windGust': 40.27,\n",
    "    'windGustTime': 1333162800,\n",
    "    'windBearing': 302,\n",
    "    'cloudCover': 0.71,\n",
    "    'uvIndex': 3,\n",
    "    'uvIndexTime': 1333191600,\n",
    "    'visibility': 6.137,\n",
    "    'temperatureMin': 38.68,\n",
    "    'temperatureMinTime': 1333202400,\n",
    "    'temperatureMax': 46.41,\n",
    "    'temperatureMaxTime': 1333144800,\n",
    "    'apparentTemperatureMin': 30.82,\n",
    "    'apparentTemperatureMinTime': 1333202400,\n",
    "    'apparentTemperatureMax': 40.05,\n",
    "    'apparentTemperatureMaxTime': 1333144800}]},\n",
    "     'offset': 2}"
   ]
  }
 ],
 "metadata": {
  "kernelspec": {
   "display_name": "Python 3",
   "language": "python",
   "name": "python3"
  },
  "language_info": {
   "codemirror_mode": {
    "name": "ipython",
    "version": 3
   },
   "file_extension": ".py",
   "mimetype": "text/x-python",
   "name": "python",
   "nbconvert_exporter": "python",
   "pygments_lexer": "ipython3",
   "version": "3.7.3"
  }
 },
 "nbformat": 4,
 "nbformat_minor": 2
}
